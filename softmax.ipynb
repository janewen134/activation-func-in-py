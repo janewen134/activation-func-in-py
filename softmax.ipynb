{
 "cells": [
  {
   "cell_type": "code",
   "execution_count": 22,
   "metadata": {},
   "outputs": [
    {
     "data": {
      "image/png": "[encoded data removed]",
      "text/plain": [
       "<Figure size 432x288 with 1 Axes>"
      ]
     },
     "metadata": {
      "needs_background": "light"
     },
     "output_type": "display_data"
    }
   ],
   "source": [
    "#reference: https://www.programmersought.com/article/20774429667/\n",
    "\n",
    "import numpy as np\n",
    "import matplotlib.pyplot as plt\n",
    "def softmax(x):\n",
    "    orig_shape=x.shape\n",
    "    if len(x.shape)>1:\n",
    "        # Matrix\n",
    "        # subtract the largest x value from each x value in case of overflow and underflow\n",
    "        constant_shift=np.max(x,axis=1).reshape(1,-1)\n",
    "        x-=constant_shift\n",
    "        x=np.exp(x)\n",
    "        normlize=np.sum(x,axis=1).reshape(1,-1)\n",
    "        x/=normlize\n",
    "    else:\n",
    "        # vector\n",
    "        constant_shift=np.max(x)\n",
    "        x-=constant_shift\n",
    "        x=np.exp(x)\n",
    "        normlize=np.sum(x)\n",
    "        x/=normlize\n",
    "    assert x.shape==orig_shape\n",
    "    return x\n",
    "\n",
    "softmax_inputs = np.arange(19900,20000)\n",
    "# use copy here because input parameter will be changed in the softmax function above\n",
    "softmax_outputs=softmax(softmax_inputs.copy())\n",
    "#print(\"Softmax Function Input :: {}\".format(softmax_inputs))\n",
    "#print(\"Softmax Function Output :: {}\".format(softmax_outputs))\n",
    "\n",
    "# plot\n",
    "plt.plot(softmax_inputs,softmax_outputs)\n",
    "plt.xlabel(\"Softmax Inputs\")\n",
    "plt.ylabel(\"Softmax Outputs\")\n",
    "plt.show()"
   ]
  },
  {
   "cell_type": "code",
   "execution_count": null,
   "metadata": {},
   "outputs": [],
   "source": []
  }
 ],
 "metadata": {
  "kernelspec": {
   "display_name": "Python 3",
   "language": "python",
   "name": "python3"
  },
  "language_info": {
   "codemirror_mode": {
    "name": "ipython",
    "version": 3
   },
   "file_extension": ".py",
   "mimetype": "text/x-python",
   "name": "python",
   "nbconvert_exporter": "python",
   "pygments_lexer": "ipython3",
   "version": "3.7.6"
  }
 },
 "nbformat": 4,
 "nbformat_minor": 4
}
